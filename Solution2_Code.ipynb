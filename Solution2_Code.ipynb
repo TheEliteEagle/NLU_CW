{
 "cells": [
  {
   "cell_type": "markdown",
   "metadata": {},
   "source": [
    "# Deeplearning with Transformer Architectures\n",
    "\n",
    "(Explanation of method here)"
   ]
  },
  {
   "cell_type": "code",
   "execution_count": null,
   "metadata": {},
   "outputs": [],
   "source": [
    "# Import all relevant modules\n",
    "import utils\n",
    "\n",
    "# Read file and preprocess\n",
    "df = utils.get_dataset(\"Data/dev.csv\", preprocessing_params={\"stop words\",\"alphanumeric\",\"stem\"}) #TODO change to training when needed\n"
   ]
  },
  {
   "cell_type": "code",
   "execution_count": null,
   "metadata": {},
   "outputs": [],
   "source": [
    "\n",
    "# example email trimming (to be removed later)\n",
    "print(utils.detect_and_trim_emails(\"look at this  -------- Forwarded by aaaaaaaaaaaaaaaaaaaaaaaaaaaaaaaaaaaaaa Subject: Lol deez\"))\n",
    "print(utils.detect_and_trim_emails(\"look at this  -------- Forwarded by aaaaaaaaaaaaaaaaaaaaaaaaaaaaa\"))\n",
    "print(utils.detect_and_trim_emails(\"-------- Forwarded by aaaaaaaaaaaaaaaaaaaaaaaaaaaaa\"))\n",
    "print(utils.detect_and_trim_emails(\"-------- Forwarded by aaaaaaaaaaaaaaaaaaaaaaaaaaaaaaaaaaaaaa Subject: Lol deez\"))\n",
    "print(utils.detect_and_trim_emails(\"This does not include an email\"))"
   ]
  }
 ],
 "metadata": {
  "kernelspec": {
   "display_name": "Python 3",
   "language": "python",
   "name": "python3"
  },
  "language_info": {
   "codemirror_mode": {
    "name": "ipython",
    "version": 3
   },
   "file_extension": ".py",
   "mimetype": "text/x-python",
   "name": "python",
   "nbconvert_exporter": "python",
   "pygments_lexer": "ipython3",
   "version": "3.12.9"
  }
 },
 "nbformat": 4,
 "nbformat_minor": 2
}
