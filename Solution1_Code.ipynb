{
 "cells": [
  {
   "cell_type": "markdown",
   "metadata": {},
   "source": [
    "# Details of solution 1 implementation\n",
    "\n",
    "Unsupervised Learning Method"
   ]
  },
  {
   "cell_type": "code",
   "execution_count": 7,
   "metadata": {},
   "outputs": [],
   "source": [
    "# Imports\n",
    "from nlu_utils import get_dataset, get_dataloader, get_df\n",
    "\n",
    "import numpy as np\n",
    "import pandas as pd\n",
    "import nltk\n",
    "import string\n",
    "from collections import Counter\n",
    "from sklearn.feature_extraction.text import CountVectorizer\n",
    "from sklearn.metrics.pairwise import cosine_similarity"
   ]
  },
  {
   "cell_type": "code",
   "execution_count": 8,
   "metadata": {},
   "outputs": [
    {
     "data": {
      "text/html": [
       "<div>\n",
       "<style scoped>\n",
       "    .dataframe tbody tr th:only-of-type {\n",
       "        vertical-align: middle;\n",
       "    }\n",
       "\n",
       "    .dataframe tbody tr th {\n",
       "        vertical-align: top;\n",
       "    }\n",
       "\n",
       "    .dataframe thead th {\n",
       "        text-align: right;\n",
       "    }\n",
       "</style>\n",
       "<table border=\"1\" class=\"dataframe\">\n",
       "  <thead>\n",
       "    <tr style=\"text-align: right;\">\n",
       "      <th></th>\n",
       "      <th>text_1</th>\n",
       "      <th>text_2</th>\n",
       "      <th>label</th>\n",
       "    </tr>\n",
       "  </thead>\n",
       "  <tbody>\n",
       "    <tr>\n",
       "      <th>0</th>\n",
       "      <td>I must admit , when I sat down to watch this ,...</td>\n",
       "      <td>I caught this on a plane , as one of the in-fl...</td>\n",
       "      <td>1</td>\n",
       "    </tr>\n",
       "    <tr>\n",
       "      <th>1</th>\n",
       "      <td>I was out of town last week doing some recruit...</td>\n",
       "      <td>eSource presents Investext training Investext ...</td>\n",
       "      <td>0</td>\n",
       "    </tr>\n",
       "    <tr>\n",
       "      <th>2</th>\n",
       "      <td>A mysterious mansion holds secrets and terror ...</td>\n",
       "      <td>Enterprising \" Times Herald \" reporter John Ha...</td>\n",
       "      <td>1</td>\n",
       "    </tr>\n",
       "    <tr>\n",
       "      <th>3</th>\n",
       "      <td>i heard you have extra def leppard tickets? i ...</td>\n",
       "      <td>----------------------------------------------...</td>\n",
       "      <td>0</td>\n",
       "    </tr>\n",
       "    <tr>\n",
       "      <th>4</th>\n",
       "      <td>I got a voicemail response from Jeff - he is f...</td>\n",
       "      <td>See revised version attached and let me know w...</td>\n",
       "      <td>1</td>\n",
       "    </tr>\n",
       "  </tbody>\n",
       "</table>\n",
       "</div>"
      ],
      "text/plain": [
       "                                              text_1  \\\n",
       "0  I must admit , when I sat down to watch this ,...   \n",
       "1  I was out of town last week doing some recruit...   \n",
       "2  A mysterious mansion holds secrets and terror ...   \n",
       "3  i heard you have extra def leppard tickets? i ...   \n",
       "4  I got a voicemail response from Jeff - he is f...   \n",
       "\n",
       "                                              text_2  label  \n",
       "0  I caught this on a plane , as one of the in-fl...      1  \n",
       "1  eSource presents Investext training Investext ...      0  \n",
       "2  Enterprising \" Times Herald \" reporter John Ha...      1  \n",
       "3  ----------------------------------------------...      0  \n",
       "4  See revised version attached and let me know w...      1  "
      ]
     },
     "execution_count": 8,
     "metadata": {},
     "output_type": "execute_result"
    }
   ],
   "source": [
    "# Import all relevant modules\n",
    "\n",
    "\n",
    "# Read file\n",
    "df = get_df(\"Data/AV_trial.csv\") # column names (text_1, text_2, label)\n",
    "\n",
    "df.head()"
   ]
  },
  {
   "cell_type": "code",
   "execution_count": null,
   "metadata": {},
   "outputs": [],
   "source": []
  }
 ],
 "metadata": {
  "kernelspec": {
   "display_name": "Python 3 (ipykernel)",
   "language": "python",
   "name": "python3"
  },
  "language_info": {
   "codemirror_mode": {
    "name": "ipython",
    "version": 3
   },
   "file_extension": ".py",
   "mimetype": "text/x-python",
   "name": "python",
   "nbconvert_exporter": "python",
   "pygments_lexer": "ipython3",
   "version": "3.10.12"
  }
 },
 "nbformat": 4,
 "nbformat_minor": 4
}
